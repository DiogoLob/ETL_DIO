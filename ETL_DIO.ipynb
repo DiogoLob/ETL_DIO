{
  "nbformat": 4,
  "nbformat_minor": 0,
  "metadata": {
    "colab": {
      "provenance": []
    },
    "kernelspec": {
      "name": "python3",
      "display_name": "Python 3"
    },
    "language_info": {
      "name": "python"
    }
  },
  "cells": [
    {
      "cell_type": "markdown",
      "source": [
        "#Extract ( EXTRAÇÃO DOS DADOS )"
      ],
      "metadata": {
        "id": "14GuPbuBp9jx"
      }
    },
    {
      "cell_type": "code",
      "execution_count": 6,
      "metadata": {
        "id": "9M8GARdOkKf0"
      },
      "outputs": [],
      "source": [
        "import pandas as pd\n",
        "from sqlalchemy import create_engine\n",
        "from tabulate import tabulate\n",
        "\n",
        "# Etapa de Extração\n",
        "data = pd.read_csv('/content/sample_data/VENDAS.csv')"
      ]
    },
    {
      "cell_type": "markdown",
      "source": [
        "#Transform ( Transformação )"
      ],
      "metadata": {
        "id": "inR8vVY3qHND"
      }
    },
    {
      "cell_type": "code",
      "source": [
        "# Etapa de Transformação\n",
        "# Somar as vendas por vendedor\n",
        "vendas_por_vendedor = data.groupby('vendedor')['vendas'].sum().reset_index()\n",
        "\n",
        "# Ordenar os vendedores pelo total de vendas (do maior para o menor)\n",
        "vendas_por_vendedor = vendas_por_vendedor.sort_values(by='vendas', ascending=False)\n",
        "\n",
        "# Identificar o vendedor que vendeu mais\n",
        "mais_vendido = data.groupby('vendedor')['vendas'].sum().idxmax()\n",
        "total_vendas_mais_vendido = data.groupby('vendedor')['vendas'].sum().max()\n",
        "\n",
        "# Identificar o vendedor que vendeu menos\n",
        "menos_vendido = data.groupby('vendedor')['vendas'].sum().idxmin()\n",
        "total_vendas_menos_vendido = data.groupby('vendedor')['vendas'].sum().min()\n",
        "\n",
        "# Identificar os vendedores que não venderam nada\n",
        "sem_vendas = data[data['vendas'] == 0]['vendedor'].unique()"
      ],
      "metadata": {
        "id": "4x2lA0fzqEp6"
      },
      "execution_count": 7,
      "outputs": []
    },
    {
      "cell_type": "markdown",
      "source": [
        "LOAD"
      ],
      "metadata": {
        "id": "xP_cIz3_Skip"
      }
    },
    {
      "cell_type": "code",
      "source": [
        "# Exibir resultados como uma tabela\n",
        "resultados = pd.DataFrame({\n",
        "    \"Vendedor\": [mais_vendido, menos_vendido],\n",
        "    \"Total de Vendas\": [total_vendas_mais_vendido, total_vendas_menos_vendido]\n",
        "})\n",
        "resultados = resultados.append(pd.DataFrame({\"Vendedor\": sem_vendas, \"Total de Vendas\": [0] * len(sem_vendas)}), ignore_index=True)\n",
        "\n",
        "print(\"Resultado da Análise de Vendas:\")\n",
        "print(resultados.to_string(index=False))\n",
        "\n",
        "# Salvar os resultados em um novo arquivo CSV\n",
        "resultados.to_csv('analise_vendas.csv', index=False)"
      ],
      "metadata": {
        "colab": {
          "base_uri": "https://localhost:8080/"
        },
        "id": "4RwPoSs8SqOj",
        "outputId": "905d9c2c-55da-436d-ef0b-1bea2123b3bc"
      },
      "execution_count": 9,
      "outputs": [
        {
          "output_type": "stream",
          "name": "stdout",
          "text": [
            "Resultado da Análise de Vendas:\n",
            "Vendedor  Total de Vendas\n",
            "     Bob             32.0\n",
            "     Eve              5.0\n"
          ]
        },
        {
          "output_type": "stream",
          "name": "stderr",
          "text": [
            "<ipython-input-9-1e5a1141d797>:6: FutureWarning: The frame.append method is deprecated and will be removed from pandas in a future version. Use pandas.concat instead.\n",
            "  resultados = resultados.append(pd.DataFrame({\"Vendedor\": sem_vendas, \"Total de Vendas\": [0] * len(sem_vendas)}), ignore_index=True)\n"
          ]
        }
      ]
    }
  ]
}